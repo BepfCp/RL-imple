{
 "cells": [
  {
   "cell_type": "markdown",
   "metadata": {},
   "source": [
    "### 问题描述\n",
    "\n",
    "<img src=\"./gridworld.png\" width=40%>"
   ]
  },
  {
   "cell_type": "code",
   "execution_count": 67,
   "metadata": {},
   "outputs": [
    {
     "name": "stdout",
     "output_type": "stream",
     "text": [
      "(12, -1, False)\n",
      "(13, -1, False)\n",
      "(8, -1, False)\n",
      "(12, -1, False)\n"
     ]
    }
   ],
   "source": [
    "# 对gridworld进行建模\n",
    "LENGTH, WIDTH = 4, 4 #水平为长，垂直为宽\n",
    "TERMINAL = [0, 15]\n",
    "S = [i for i in range(LENGTH*WIDTH)]\n",
    "A = [\"l\", \"r\", \"u\", \"d\"]\n",
    "GAMMA = 1.0\n",
    "\n",
    "ds_actions = {\"l\": -1, \"r\": 1, \"u\": -LENGTH, \"d\": LENGTH}\n",
    "\n",
    "def dynamics(s, a): #环境动态特征\n",
    "    global TERMINAL, LENGTH\n",
    "    reward = 0 if s in TERMINAL else -1\n",
    "    s_prime = s\n",
    "    if (s < LENGTH and a == \"u\") \\\n",
    "       or (s%LENGTH == 0 and a == \"l\") \\\n",
    "       or ((s+1)%LENGTH == 0 and a == \"r\") \\\n",
    "       or (s >= (WIDTH-1)*LENGTH and a == \"d\") \\\n",
    "       or s in TERMINAL:\n",
    "        pass\n",
    "    else:\n",
    "        s_prime = s+ds_actions[a]\n",
    "    is_end = True if s_prime in TERMINAL else False\n",
    "    return s_prime, reward, is_end\n",
    "\n",
    "for a in A:\n",
    "    print(dynamics(12, a))\n",
    "\n",
    "def P(s, a, s_prime): #状态转移函数\n",
    "    return dynamics(s,a)[0] == s_prime\n",
    "\n",
    "# print(1*P(4, \"u\", 0))\n",
    "\n",
    "def R(s, a): #奖励函数\n",
    "    return dynamics(s,a)[1]"
   ]
  },
  {
   "cell_type": "code",
   "execution_count": 68,
   "metadata": {},
   "outputs": [],
   "source": [
    "# 定义策略\n",
    "def uniform_pi(s=None, a=None, V=None): #均匀随机策略\n",
    "    global A\n",
    "    n = len(A)\n",
    "    return 0 if n==0 else 1.0/n\n",
    "\n",
    "def greedy_pi(s, a, V): #贪心策略\n",
    "    global S, A, P, R, GAMMA\n",
    "    max_v = max([dynamics(s, a_opt)[1] + GAMMA*V[dynamics(s, a_opt)[0]] for a_opt in A]) \n",
    "    a_max_v = []\n",
    "    for a_opt in A:\n",
    "        if (dynamics(s, a_opt)[1] + GAMMA*V[dynamics(s, a_opt)[0]]) == max_v:\n",
    "            a_max_v.append(a_opt)\n",
    "    n = len(a_max_v)\n",
    "    if n==0: return 0.0\n",
    "    return 1.0/n if a in a_max_v else 0.0\n",
    "\n",
    "def get_pi(pi, s, a, V): #将两种策略进行统一\n",
    "    return pi(s, a, V)    "
   ]
  },
  {
   "cell_type": "code",
   "execution_count": 72,
   "metadata": {},
   "outputs": [],
   "source": [
    "# 策略迭代\n",
    "def compute_q(s, a, V):\n",
    "    global R, GAMMA\n",
    "    # print(str(s) + \"-\" + a + str(dynamics(s, a)[0]))\n",
    "    return R(s, a) + GAMMA*V[dynamics(s, a)[0]]\n",
    "\n",
    "# V = [0 for _ in range(LENGTH*WIDTH)]\n",
    "# print(compute_q(4, \"l\", V))\n",
    "\n",
    "def compute_v(pi, s, V): #迭代求v\n",
    "    global S, A, R, P, GAMMA\n",
    "    v_s = 0\n",
    "    for a in A:\n",
    "        v_s += get_pi(pi,s,a,V) * compute_q(s, a, V)\n",
    "    return v_s\n",
    "\n",
    "def update_V(pi, V):\n",
    "    global S\n",
    "    for s in S:\n",
    "        V[s] = compute_v(pi, s, V)\n",
    "\n",
    "def policy_evaluate(pi, n, V):\n",
    "    for i in range(n):\n",
    "        update_V(pi, V)\n",
    "        \n",
    "def policy_iterate(pi, m, n, V): #GPI\n",
    "    for i in range(m):\n",
    "        policy_evaluate(pi, n, V)\n",
    "        pi = greedy_pi\n",
    "    return V"
   ]
  },
  {
   "cell_type": "code",
   "execution_count": 73,
   "metadata": {},
   "outputs": [],
   "source": [
    "# 价值迭代\n",
    "def compute_v_from_max_q(s, V):\n",
    "    global S, A, R, P, GAMMA\n",
    "    v_s = float(\"-inf\")\n",
    "    for a in A:\n",
    "        q_sa = compute_q(s, a, V)\n",
    "        if q_sa > v_s:\n",
    "            v_s = q_sa\n",
    "    return v_s\n",
    "\n",
    "def update_V_without_pi(V):\n",
    "    global S\n",
    "    for s in S:\n",
    "        V[s] = compute_v_from_max_q(s, V)\n",
    "\n",
    "def value_iterate(n, V):\n",
    "    for i in range(n):\n",
    "        update_V_without_pi(V)"
   ]
  },
  {
   "cell_type": "code",
   "execution_count": 76,
   "metadata": {},
   "outputs": [
    {
     "name": "stdout",
     "output_type": "stream",
     "text": [
      "  0.00 -14.00 -20.00 -22.00 \n",
      "-14.00 -18.00 -20.00 -20.00 \n",
      "-20.00 -20.00 -18.00 -14.00 \n",
      "-22.00 -20.00 -14.00   0.00 \n",
      "\n",
      "  0.00  -1.00  -2.00  -3.00 \n",
      " -1.00  -2.00  -3.00  -2.00 \n",
      " -2.00  -3.00  -2.00  -1.00 \n",
      " -3.00  -2.00  -1.00   0.00 \n",
      "\n"
     ]
    }
   ],
   "source": [
    "# 验证\n",
    "def display_V(V):\n",
    "    global LENGTH, WIDTH\n",
    "    for i in range(LENGTH*WIDTH):\n",
    "        print('{0:>6.2f}'.format(V[i]), end=\" \")\n",
    "        if (i+1)%LENGTH == 0:\n",
    "            print(\"\")\n",
    "    print()\n",
    "        \n",
    "V = [0 for _ in range(LENGTH*WIDTH)]\n",
    "policy_evaluate(uniform_pi, 100, V)\n",
    "display_V(V)\n",
    "\n",
    "V = [0 for _ in range(LENGTH*WIDTH)]\n",
    "value_iterate(4, V)\n",
    "display_V(V)"
   ]
  },
  {
   "cell_type": "code",
   "execution_count": null,
   "metadata": {},
   "outputs": [],
   "source": []
  }
 ],
 "metadata": {
  "kernelspec": {
   "display_name": "Python [conda env:spinup] *",
   "language": "python",
   "name": "conda-env-spinup-py"
  },
  "language_info": {
   "codemirror_mode": {
    "name": "ipython",
    "version": 3
   },
   "file_extension": ".py",
   "mimetype": "text/x-python",
   "name": "python",
   "nbconvert_exporter": "python",
   "pygments_lexer": "ipython3",
   "version": "3.6.10"
  }
 },
 "nbformat": 4,
 "nbformat_minor": 4
}
