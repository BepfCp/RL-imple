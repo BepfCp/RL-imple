{
 "cells": [
  {
   "cell_type": "markdown",
   "metadata": {},
   "source": [
    "### 1. 问题描述\n",
    "\n",
    "<img src=\"./problem.png\" width=\"40%\">"
   ]
  },
  {
   "cell_type": "markdown",
   "metadata": {},
   "source": [
    "### 2. 建立并求解MRP\n",
    "\n",
    "其中状态集$S$有7个状态，状态转换矩阵为7\\*7，奖励函数用7个标量表示，分别表示离开某一个状态得到的即时奖励值。"
   ]
  },
  {
   "cell_type": "code",
   "execution_count": 1,
   "metadata": {},
   "outputs": [],
   "source": [
    "import numpy as np\n",
    "import pprint\n",
    "pp = pprint.PrettyPrinter(indent=4)"
   ]
  },
  {
   "cell_type": "code",
   "execution_count": 2,
   "metadata": {},
   "outputs": [],
   "source": [
    "# 建立MRP\n",
    "num_states = 7\n",
    "states = [\"C1\",\"C2\",\"C3\",\"Ps\",\"Bar\",\"Pho\",\"Res\"]\n",
    "Pss = np.array([\n",
    "    # C1  C2   C3   Ps   Bar  Pho  Res\n",
    "    [0.0, 0.5, 0.0, 0.0, 0.0, 0.5, 0.0],\n",
    "    [0.0, 0.0, 0.8, 0.0, 0.0, 0.0, 0.2],\n",
    "    [0.0, 0.0, 0.0, 0.6, 0.4, 0.0, 0.0],\n",
    "    [0.0, 0.0, 0.0, 0.0, 0.0, 0.0, 1.0],\n",
    "    [0.2, 0.4, 0.4, 0.0, 0.0, 0.0, 0.0],\n",
    "    [0.1, 0.0, 0.0, 0.0, 0.0, 0.9, 0.0],\n",
    "    [0.0, 0.0, 0.0, 0.0, 0.0, 0.0, 1.0]\n",
    "])\n",
    "rewards = [-2, -2, -2, 10, 1, -1, 0]\n",
    "gamma = 0.5"
   ]
  },
  {
   "cell_type": "code",
   "execution_count": 3,
   "metadata": {},
   "outputs": [],
   "source": [
    "# 计算任一状态序列中某一状态的收获\n",
    "def compute_return(start_index = 0,\n",
    "                   chain = None,\n",
    "                   gamma = 0.5):\n",
    "    value,t = 0.0,0\n",
    "    for i in range(start_index, len(chain)):\n",
    "        value += np.power(gamma, t) * rewards[states.index(chain[i])]\n",
    "        t += 1\n",
    "    return value"
   ]
  },
  {
   "cell_type": "code",
   "execution_count": 4,
   "metadata": {},
   "outputs": [
    {
     "name": "stdout",
     "output_type": "stream",
     "text": [
      "array([[-12.54073351],\n",
      "       [  1.45690179],\n",
      "       [  4.32117045],\n",
      "       [ 10.        ],\n",
      "       [  0.80308417],\n",
      "       [-22.53857963],\n",
      "       [  0.        ]])\n"
     ]
    }
   ],
   "source": [
    "# 解析解\n",
    "def compute_value(Pss, rewards, gamma=0.05):\n",
    "    rewards_col = np.array(rewards).reshape((-1,1))\n",
    "    values = np.dot(np.linalg.inv(np.eye(7,7) - gamma*Pss), rewards)\n",
    "    return values\n",
    "values = compute_value(Pss, rewards, 0.99999)\n",
    "pp.pprint(values.reshape(-1,1))\n",
    "# print(values.reshape(-1,1))"
   ]
  },
  {
   "cell_type": "code",
   "execution_count": 5,
   "metadata": {},
   "outputs": [
    {
     "name": "stdout",
     "output_type": "stream",
     "text": [
      "-3.196044921875\n"
     ]
    }
   ],
   "source": [
    "# 验证\n",
    "chains = [\n",
    "    [\"C1\", \"C2\", \"C3\", \"Ps\", \"Res\"],\n",
    "    [\"C1\", \"Pho\", \"Pho\", \"C1\", \"C2\", \"Res\"],\n",
    "    [\"C1\", \"C2\", \"C3\", \"Bar\", \"C2\", \"C3\", \"Ps\", \"Res\"],\n",
    "    [\"C1\", \"Pho\", \"Pho\", \"C1\", \"C2\", \"C3\", \"Bar\", \"C1\",\\\n",
    "     \"Pho\", \"Pho\", \"Pho\", \"C1\", \"C2\", \"C3\", \"Bar\", \"C2\", \"Res\"]\n",
    "]\n",
    "print(compute_return(0, chains[3], 0.5))"
   ]
  },
  {
   "cell_type": "markdown",
   "metadata": {},
   "source": [
    "### 3. 建立MDP\n",
    "\n",
    "<img src=\"./MDP.png\" width=\"40%\">"
   ]
  },
  {
   "cell_type": "markdown",
   "metadata": {},
   "source": [
    "状态集$S$中有五个元素，行为集中也有5个元素，但是具体到某一个状态则只有2个可能的行为。"
   ]
  },
  {
   "cell_type": "code",
   "execution_count": 6,
   "metadata": {},
   "outputs": [],
   "source": [
    "S = [\"Pho\", \"C1\", \"C2\", \"C3\", \"Res\"]\n",
    "A = [\"GoPho\", \"Study\", \"LeaPho\", \"GoBar\", \"QuitStudy\"]\n",
    "gamma = 1.0"
   ]
  },
  {
   "cell_type": "code",
   "execution_count": 7,
   "metadata": {},
   "outputs": [
    {
     "name": "stdout",
     "output_type": "stream",
     "text": [
      "Error!\n"
     ]
    }
   ],
   "source": [
    "# 设置奖励矩阵\n",
    "R = np.zeros((len(S),len(A)))\n",
    "# for i in range(len(S)):\n",
    "#     for j in range(len(A)):\n",
    "#         R[i,j] = float(\"-inf\")\n",
    "R[0,0] = -1\n",
    "R[0,2] = 0\n",
    "R[1,0] = -1\n",
    "R[1,1] = -2\n",
    "R[2,1] = -2\n",
    "R[2,4] = 0\n",
    "R[3,1] = 10\n",
    "R[3,3] = 1\n",
    "\n",
    "def print_R(i,j):\n",
    "    if i<len(S) and j<len(A):\n",
    "        print(S[i] + \"-\" + A[j] + \" -> %f\"%R[i,j])\n",
    "    else:\n",
    "        print(\"Error!\")\n",
    "    \n",
    "print_R(3,8)"
   ]
  },
  {
   "cell_type": "code",
   "execution_count": 8,
   "metadata": {},
   "outputs": [
    {
     "name": "stdout",
     "output_type": "stream",
     "text": [
      "C3-LeaPho-C3 -> 0.000000\n"
     ]
    }
   ],
   "source": [
    "# 设置状态转移矩阵\n",
    "P = np.zeros((len(S),len(A),len(S)))\n",
    "P[0,0,0] = 1.0\n",
    "P[0,2,1] = 1.0\n",
    "P[1,0,0] = 1.0\n",
    "P[1,1,2] = 1.0\n",
    "P[2,1,3] = 1.0\n",
    "P[2,4,4] = 1.0\n",
    "P[3,1,4] = 1.0\n",
    "P[3,3,1] = 0.2\n",
    "P[3,3,2] = 0.4\n",
    "P[3,3,3] = 0.4\n",
    "\n",
    "def print_P(i,j,k):\n",
    "    if (i<len(S) and j<len(A)) and k<len(S):\n",
    "        print(S[i] + \"-\" + A[j] + \"-\" + S[k] + \" -> %f\"%P[i,j,k])\n",
    "    else:\n",
    "        print(\"Error!\")\n",
    "    \n",
    "print_P(3,2,3)"
   ]
  },
  {
   "cell_type": "code",
   "execution_count": 9,
   "metadata": {},
   "outputs": [
    {
     "name": "stdout",
     "output_type": "stream",
     "text": [
      "C3-Study -> 0.500000\n"
     ]
    }
   ],
   "source": [
    "# 设置策略矩阵\n",
    "pi = np.zeros((len(S),len(A)))\n",
    "pi[0,0] = 0.5\n",
    "pi[0,2] = 0.5\n",
    "pi[1,0] = 0.5\n",
    "pi[1,1] = 0.5\n",
    "pi[2,1] = 0.5\n",
    "pi[2,4] = 0.5\n",
    "pi[3,1] = 0.5\n",
    "pi[3,3] = 0.5\n",
    "\n",
    "def print_pi(i,j):\n",
    "    if i<len(S) and j<len(A):\n",
    "        print(S[i] + \"-\" + A[j] + \" -> %f\"%pi[i,j])\n",
    "    else:\n",
    "        print(\"Error!\")\n",
    "    \n",
    "print_pi(3,1)"
   ]
  },
  {
   "cell_type": "code",
   "execution_count": 10,
   "metadata": {},
   "outputs": [],
   "source": [
    "MDP = (S, A, R, P, gamma)\n",
    "# 价值函数\n",
    "V = np.zeros((len(S),))"
   ]
  },
  {
   "cell_type": "code",
   "execution_count": 11,
   "metadata": {},
   "outputs": [],
   "source": [
    "def compute_q(MDP, V, s, a):\n",
    "    S, A, R, P, gamma = MDP\n",
    "    s_index = S.index(s)\n",
    "    a_index = A.index(a)\n",
    "#     if R[s_index,a_index] == float(\"-inf\"):\n",
    "#         return float(\"-inf\")\n",
    "    q_sa = 0\n",
    "    for s_prime in S:\n",
    "        s_prime_index = S.index(s_prime)\n",
    "        q_sa += P[s_index,a_index,s_prime_index]*V[s_prime_index]\n",
    "    q_sa = R[s_index,a_index]+gamma*q_sa\n",
    "    return q_sa"
   ]
  },
  {
   "cell_type": "code",
   "execution_count": 12,
   "metadata": {},
   "outputs": [],
   "source": [
    "def compute_v(MDP, V, pi, s):\n",
    "    S, A, R, P, gamma = MDP\n",
    "    v_s = 0\n",
    "    s_index = S.index(s)\n",
    "    for a in A:\n",
    "        a_index = A.index(a)\n",
    "        if pi[s_index,a_index] != 0:\n",
    "            v_s += pi[s_index,a_index]*compute_q(MDP, V, s, a)\n",
    "    return v_s"
   ]
  },
  {
   "cell_type": "code",
   "execution_count": 13,
   "metadata": {},
   "outputs": [],
   "source": [
    "# 迭代求解价值函数\n",
    "def update_V(MDP, V, pi):\n",
    "    S, _, _, _, _ = MDP\n",
    "    # V_prime = V.copy()\n",
    "    for s in S:\n",
    "        s_index = S.index(s)\n",
    "        # V_prime[s_index] = compute_v(MDP, V_prime, pi, s)\n",
    "        V[s_index] = compute_v(MDP, V, pi, s)\n",
    "    # return V_prime"
   ]
  },
  {
   "cell_type": "code",
   "execution_count": 14,
   "metadata": {},
   "outputs": [
    {
     "name": "stdout",
     "output_type": "stream",
     "text": [
      "[-2.30769231 -1.30769231  2.69230769  7.38461538  0.        ]\n"
     ]
    }
   ],
   "source": [
    "# 策略评估\n",
    "def policy_evaluate(MDP, V, pi, n):\n",
    "    for i in range(n):\n",
    "        update_V(MDP, V, pi)\n",
    "    # return V\n",
    "policy_evaluate(MDP, V, pi, 100)\n",
    "print(V)"
   ]
  },
  {
   "cell_type": "code",
   "execution_count": 15,
   "metadata": {},
   "outputs": [
    {
     "name": "stdout",
     "output_type": "stream",
     "text": [
      "7.3846153846146745\n"
     ]
    }
   ],
   "source": [
    "# 验证\n",
    "v = compute_v(MDP, V, pi, \"C3\")\n",
    "print(v)"
   ]
  },
  {
   "cell_type": "code",
   "execution_count": 16,
   "metadata": {},
   "outputs": [
    {
     "name": "stdout",
     "output_type": "stream",
     "text": [
      "[ 6.  6.  8. 10.  0.]\n"
     ]
    }
   ],
   "source": [
    "# 价值迭代\n",
    "V_star = np.zeros((len(S),))\n",
    "def compute_v_from_max_q(MDP, V, s):\n",
    "    S, A, R, P, gamma = MDP\n",
    "    v_s = float(\"-inf\")\n",
    "    for a in A:\n",
    "        # a_index = A.index(a)\n",
    "        qsa = compute_q(MDP, V, s, a)\n",
    "        # print(qsa)\n",
    "        if qsa > v_s:\n",
    "            v_s = qsa\n",
    "    return v_s\n",
    "\n",
    "def update_V_without_pi(MDP, V):\n",
    "    S, _, _, _, _ = MDP\n",
    "    for s in S:\n",
    "        s_index = S.index(s)\n",
    "        V[s_index] = compute_v_from_max_q(MDP, V, s)\n",
    "    # return V\n",
    "        \n",
    "def value_iteration(MDP, V, n):\n",
    "    for i in range(n):\n",
    "        update_V_without_pi(MDP, V)\n",
    "\n",
    "value_iteration(MDP, V_star, 4)\n",
    "print(V_star)"
   ]
  }
 ],
 "metadata": {
  "kernelspec": {
   "display_name": "Python 3",
   "language": "python",
   "name": "python3"
  },
  "language_info": {
   "codemirror_mode": {
    "name": "ipython",
    "version": 3
   },
   "file_extension": ".py",
   "mimetype": "text/x-python",
   "name": "python",
   "nbconvert_exporter": "python",
   "pygments_lexer": "ipython3",
   "version": "3.6.10"
  }
 },
 "nbformat": 4,
 "nbformat_minor": 4
}
